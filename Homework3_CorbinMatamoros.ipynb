{
 "cells": [
  {
   "cell_type": "code",
   "execution_count": 1,
   "metadata": {},
   "outputs": [
    {
     "name": "stdout",
     "output_type": "stream",
     "text": [
      "[[ 0.31437697  0.23775898 -0.53532449 ... -0.22961524 -0.91553438\n",
      "  -1.45074619]]\n"
     ]
    }
   ],
   "source": [
    "import numpy as np\n",
    "import tensorflow as tf\n",
    "# === Create data and simulate results ===\n",
    "x_data = np.random.randn(3,2000)\n",
    "w_real = np.array([[0.3], \n",
    "                   [0.5], \n",
    "                   [0.1]])\n",
    "b_real = -0.2\n",
    "\n",
    "noise = np.random.randn(1,2000) * 0.1\n",
    "y_data = np.matmul(w_real.T, x_data) + b_real + noise\n",
    "print(y_data)"
   ]
  },
  {
   "cell_type": "code",
   "execution_count": 2,
   "metadata": {},
   "outputs": [
    {
     "name": "stdout",
     "output_type": "stream",
     "text": [
      "0 [array([[0.33041364],\n",
      "       [0.48604918],\n",
      "       [0.1127489 ]], dtype=float32), -0.20770621]\n",
      "5 [array([[0.29889473],\n",
      "       [0.496213  ],\n",
      "       [0.10117362]], dtype=float32), -0.19853765]\n",
      "10 [array([[0.29889476],\n",
      "       [0.496213  ],\n",
      "       [0.10117361]], dtype=float32), -0.19853766]\n"
     ]
    }
   ],
   "source": [
    "NUM_STEPS = 10\n",
    "\n",
    "g = tf.Graph()\n",
    "wb_ = []\n",
    "with g.as_default():\n",
    "    x = tf.placeholder(tf.float32, shape = [3, None])\n",
    "    y_true = tf.placeholder(tf.float32, shape = None)\n",
    "    \n",
    "    with tf.name_scope('inference') as scope:\n",
    "        w = tf.Variable([[0], [0], [0]], dtype = tf.float32, name = 'weights')\n",
    "        b = tf.Variable(0, dtype = tf.float32, name = 'bias')\n",
    "        # Here w is initialized as a row vector; It works in this case because\n",
    "        # transposing x will yield the same result as in the traditional equation\n",
    "        y_pred = tf.matmul(tf.transpose(w), x) + b\n",
    "        \n",
    "    with tf.name_scope('loss') as scope:\n",
    "        loss = tf.reduce_mean(tf.square(y_true - y_pred))\n",
    "    \n",
    "    with tf.name_scope('train') as scope:\n",
    "        learning_rate = 0.5\n",
    "        optimizer = tf.train.GradientDescentOptimizer(learning_rate)\n",
    "        train = optimizer.minimize(loss)\n",
    "        \n",
    "    # Before starting, initialize the variables. We will 'run' this first\n",
    "    init = tf.global_variables_initializer()\n",
    "    with tf.Session() as sess:\n",
    "        sess.run(init)\n",
    "        for step in range(NUM_STEPS):\n",
    "            sess.run(train, {x: x_data, y_true: y_data})\n",
    "            if (step % 5 == 0):\n",
    "                print(step, sess.run([w, b]))\n",
    "                wb_.append(sess.run([w, b]))\n",
    "        print(10, sess.run([w, b]))\n",
    "        "
   ]
  },
  {
   "cell_type": "code",
   "execution_count": null,
   "metadata": {},
   "outputs": [],
   "source": []
  }
 ],
 "metadata": {
  "kernelspec": {
   "display_name": "Python 3",
   "language": "python",
   "name": "python3"
  },
  "language_info": {
   "codemirror_mode": {
    "name": "ipython",
    "version": 3
   },
   "file_extension": ".py",
   "mimetype": "text/x-python",
   "name": "python",
   "nbconvert_exporter": "python",
   "pygments_lexer": "ipython3",
   "version": "3.6.5"
  }
 },
 "nbformat": 4,
 "nbformat_minor": 2
}
