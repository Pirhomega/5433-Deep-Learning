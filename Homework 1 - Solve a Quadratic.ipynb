{
 "cells": [
  {
   "cell_type": "markdown",
   "metadata": {},
   "source": [
    "# Corbin Matamoros\n",
    "# Homework 1 - Find the roots of a second-order polynomial\n",
    "# CMPS 5433 - Deep Learning - Dr. Colmenares\n",
    "*This program will accept three values for the three coefficients of a 2nd-order polynomial as input, and output its two roots*"
   ]
  },
  {
   "cell_type": "code",
   "execution_count": null,
   "metadata": {},
   "outputs": [],
   "source": [
    "from decimal import * #decimal library allows rounding\n",
    "a = int(input(\"Input a value for 'a', where -inf < a < inf\"))\n",
    "b = int(input(\"Input a value for 'b', where -inf < b < inf\"))\n",
    "c = int(input(\"Input a value for 'c', where -inf < c < inf\"))"
   ]
  },
  {
   "cell_type": "code",
   "execution_count": null,
   "metadata": {
    "scrolled": false
   },
   "outputs": [],
   "source": [
    "print(\"Your polynomial is:\", a, \"x^2 +\", b, \"x +\", c, \"= 0\")"
   ]
  },
  {
   "cell_type": "code",
   "execution_count": null,
   "metadata": {},
   "outputs": [],
   "source": [
    "print(\"The quadratic equation can be used to find the two roots associated with your polynomial\")\n",
    "print(\"First, the discriminant will be calculated to determine if the roots are real or complex\")"
   ]
  },
  {
   "cell_type": "code",
   "execution_count": null,
   "metadata": {},
   "outputs": [],
   "source": [
    "discriminant = (b**2 - (4*a*c))\n",
    "print(discriminant)"
   ]
  },
  {
   "cell_type": "code",
   "execution_count": null,
   "metadata": {},
   "outputs": [],
   "source": [
    "#the first 'if' runs if the discriminant is positive, implying both roots are real\n",
    "if discriminant > 0.0:\n",
    "    root1 = (-b + discriminant**0.5)/(2*a)\n",
    "    root1 = -root1\n",
    "    root2 = (-b - discriminant**0.5)/(2*a)\n",
    "    root2 = -root2"
   ]
  },
  {
   "cell_type": "code",
   "execution_count": null,
   "metadata": {},
   "outputs": [],
   "source": [
    "#the second 'if' runs if the discriminant is negative, implying both roots are complex    \n",
    "if discriminant < 0.0:\n",
    "    realPart = -b / (2*a) #this is the real part of the complex number\n",
    "    realPart = format(realPart, '.3f')#this rounds firstPart to 3 decimal places and converts it to string\n",
    "    root1 = ((-discriminant)**0.5)/(2*a)#this is the imaginary part of the complex number\n",
    "    root1 = format(root1, '.3f')\n",
    "    root1 = realPart + \" + \" + root1 + \"i\"#creates a string of the entire complex number\n",
    "    root2 = ((-discriminant)**0.5)/(2*a)\n",
    "    root2 = format(root2, '.3f')\n",
    "    root2 = realPart + \" - \" + root2 + \"i\""
   ]
  },
  {
   "cell_type": "code",
   "execution_count": null,
   "metadata": {},
   "outputs": [],
   "source": [
    "#otherwise, the discriminant is zero and the roots are the same\n",
    "if discriminant == 0.0:\n",
    "    root1 = -b / (2 * a)\n",
    "    root2 = root1"
   ]
  },
  {
   "cell_type": "code",
   "execution_count": null,
   "metadata": {},
   "outputs": [],
   "source": [
    "print(\"The roots of the polynomial are\", root1, \"and\", root2)"
   ]
  }
 ],
 "metadata": {
  "kernelspec": {
   "display_name": "Python 3",
   "language": "python",
   "name": "python3"
  },
  "language_info": {
   "codemirror_mode": {
    "name": "ipython",
    "version": 3
   },
   "file_extension": ".py",
   "mimetype": "text/x-python",
   "name": "python",
   "nbconvert_exporter": "python",
   "pygments_lexer": "ipython3",
   "version": "3.6.5"
  }
 },
 "nbformat": 4,
 "nbformat_minor": 2
}
