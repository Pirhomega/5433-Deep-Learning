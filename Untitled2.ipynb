{
 "cells": [
  {
   "cell_type": "code",
   "execution_count": 1,
   "metadata": {},
   "outputs": [
    {
     "name": "stdout",
     "output_type": "stream",
     "text": [
      "===========\n",
      "range(0, 5)\n",
      "<class 'range'>\n",
      "===========\n",
      "[0, 1, 2, 3, 4]\n",
      "<class 'list'>\n",
      "===========\n"
     ]
    }
   ],
   "source": [
    "l1=range(0,5)\n",
    "print(\"===========\")\n",
    "print(l1)\n",
    "print(type(l1))\n",
    "print(\"===========\")\n",
    "l1 = list(l1)\n",
    "print(l1)\n",
    "print(type(l1))\n",
    "print(\"===========\")"
   ]
  },
  {
   "cell_type": "code",
   "execution_count": 2,
   "metadata": {},
   "outputs": [
    {
     "name": "stdout",
     "output_type": "stream",
     "text": [
      "[2, 4, 6, 8]\n"
     ]
    }
   ],
   "source": [
    "l2 = list(range(2, 10, 2))\n",
    "print(l2)"
   ]
  },
  {
   "cell_type": "code",
   "execution_count": 3,
   "metadata": {},
   "outputs": [
    {
     "name": "stdout",
     "output_type": "stream",
     "text": [
      "['H', 'e', 'l', 'l', 'o']\n"
     ]
    }
   ],
   "source": [
    "l3 = [letter for letter in 'Hello']\n",
    "print(l3)"
   ]
  },
  {
   "cell_type": "code",
   "execution_count": 4,
   "metadata": {},
   "outputs": [
    {
     "name": "stdout",
     "output_type": "stream",
     "text": [
      "[1, 3, 5, 7, 9]\n"
     ]
    }
   ],
   "source": [
    "l4 = [num for num in range(1,10,2)]\n",
    "print(l4)"
   ]
  },
  {
   "cell_type": "code",
   "execution_count": 5,
   "metadata": {},
   "outputs": [
    {
     "name": "stdout",
     "output_type": "stream",
     "text": [
      "[1, 9, 25, 49, 81]\n"
     ]
    }
   ],
   "source": [
    "l5 = [num**2 for num in range(1,10,2)]\n",
    "print(l5)"
   ]
  },
  {
   "cell_type": "code",
   "execution_count": 6,
   "metadata": {},
   "outputs": [
    {
     "name": "stdout",
     "output_type": "stream",
     "text": [
      "[3, 6, 9]\n"
     ]
    }
   ],
   "source": [
    "l6 = [num for num in range(1,10,1) if (num%3 == 0)]\n",
    "print(l6)"
   ]
  },
  {
   "cell_type": "code",
   "execution_count": 7,
   "metadata": {},
   "outputs": [
    {
     "name": "stdout",
     "output_type": "stream",
     "text": [
      "[1.0, 2.0, 3.0, 4.0]\n"
     ]
    }
   ],
   "source": [
    "l8 = [2, 4, 6, 8]\n",
    "divide_by_Two = [(val/2.0) for val in l8]\n",
    "print(divide_by_Two)"
   ]
  },
  {
   "cell_type": "code",
   "execution_count": 8,
   "metadata": {},
   "outputs": [
    {
     "name": "stdout",
     "output_type": "stream",
     "text": [
      "[1.0, 3.0, 5.0, 7.0]\n"
     ]
    }
   ],
   "source": [
    "sourceList = [1, 81, 625, 2401]\n",
    "l9 = [val**0.5 for val in [val**0.5 for val in sourceList ]]\n",
    "print(l9)"
   ]
  },
  {
   "cell_type": "code",
   "execution_count": 6,
   "metadata": {},
   "outputs": [
    {
     "name": "stdout",
     "output_type": "stream",
     "text": [
      "outs = 0.6502878665924072\n"
     ]
    }
   ],
   "source": [
    "import tensorflow as tf\n",
    "a1= tf.constant(5.0); b1 = tf.constant(3.0)\n",
    "c1 = tf.multiply(a1,b1)\n",
    "\n",
    "d1 = tf.sin(15.0)\n",
    "\n",
    "sess = tf.Session()\n",
    "outs = sess.run(d1)\n",
    "sess.close()\n",
    "print(\"outs = {}\".format(outs))"
   ]
  },
  {
   "cell_type": "code",
   "execution_count": null,
   "metadata": {},
   "outputs": [],
   "source": []
  }
 ],
 "metadata": {
  "kernelspec": {
   "display_name": "Python 3",
   "language": "python",
   "name": "python3"
  },
  "language_info": {
   "codemirror_mode": {
    "name": "ipython",
    "version": 3
   },
   "file_extension": ".py",
   "mimetype": "text/x-python",
   "name": "python",
   "nbconvert_exporter": "python",
   "pygments_lexer": "ipython3",
   "version": "3.6.5"
  }
 },
 "nbformat": 4,
 "nbformat_minor": 2
}
