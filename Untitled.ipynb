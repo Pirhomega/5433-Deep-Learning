{
 "cells": [
  {
   "cell_type": "code",
   "execution_count": 2,
   "metadata": {},
   "outputs": [
    {
     "name": "stdout",
     "output_type": "stream",
     "text": [
      "outs = 0.17647058823529413\n"
     ]
    }
   ],
   "source": [
    "import tensorflow as tf\n",
    "\n",
    "a = tf.constant(5)\n",
    "b = tf.constant(2)\n",
    "\n",
    "d = tf.add(a,b)\n",
    "c = tf.multiply(a,b)\n",
    "e = tf.subtract(c,d)\n",
    "f = tf.add(c,d)\n",
    "g = tf.divide(e,f)\n",
    "\n",
    "sess = tf.Session()\n",
    "\n",
    "outs = sess.run(g)\n",
    "sess.close()\n",
    "print(\"outs = {}\".format(outs))\n"
   ]
  },
  {
   "cell_type": "code",
   "execution_count": null,
   "metadata": {},
   "outputs": [],
   "source": []
  }
 ],
 "metadata": {
  "kernelspec": {
   "display_name": "Python 3",
   "language": "python",
   "name": "python3"
  },
  "language_info": {
   "codemirror_mode": {
    "name": "ipython",
    "version": 3
   },
   "file_extension": ".py",
   "mimetype": "text/x-python",
   "name": "python",
   "nbconvert_exporter": "python",
   "pygments_lexer": "ipython3",
   "version": "3.6.5"
  }
 },
 "nbformat": 4,
 "nbformat_minor": 2
}
